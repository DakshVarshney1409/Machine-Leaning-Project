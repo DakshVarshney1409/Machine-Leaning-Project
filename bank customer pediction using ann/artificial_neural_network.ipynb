{
  "cells": [
    {
      "cell_type": "markdown",
      "metadata": {
        "id": "lP6JLo1tGNBg"
      },
      "source": [
        "# Artificial Neural Network"
      ]
    },
    {
      "cell_type": "markdown",
      "metadata": {
        "id": "gWZyYmS_UE_L"
      },
      "source": [
        "### Importing the libraries"
      ]
    },
    {
      "cell_type": "code",
      "execution_count": 5,
      "metadata": {
        "id": "MxkJoQBkUIHC"
      },
      "outputs": [],
      "source": [
        "import numpy as np\n",
        "import pandas as pd\n",
        "import tensorflow as tf"
      ]
    },
    {
      "cell_type": "code",
      "execution_count": 6,
      "metadata": {
        "colab": {
          "base_uri": "https://localhost:8080/",
          "height": 36
        },
        "id": "ZaTwK7ojXr2F",
        "outputId": "48304058-b148-42f2-88c2-e744c187c10b"
      },
      "outputs": [
        {
          "data": {
            "text/plain": [
              "'2.8.0'"
            ]
          },
          "execution_count": 6,
          "metadata": {},
          "output_type": "execute_result"
        }
      ],
      "source": [
        "tf.__version__"
      ]
    },
    {
      "cell_type": "markdown",
      "metadata": {
        "id": "1E0Q3aoKUCRX"
      },
      "source": [
        "## Part 1 - Data Preprocessing"
      ]
    },
    {
      "cell_type": "markdown",
      "metadata": {
        "id": "cKWAkFVGUU0Z"
      },
      "source": [
        "### Importing the dataset"
      ]
    },
    {
      "cell_type": "code",
      "execution_count": 7,
      "metadata": {
        "id": "MXUkhkMfU4wq"
      },
      "outputs": [],
      "source": [
        "dataset = pd.read_csv('Churn_Modelling.csv')\n",
        "X = dataset.iloc[:, 3:-1].values\n",
        "y = dataset.iloc[:, -1].values"
      ]
    },
    {
      "cell_type": "code",
      "execution_count": 8,
      "metadata": {
        "colab": {
          "base_uri": "https://localhost:8080/"
        },
        "id": "VYP9cQTWbzuI",
        "outputId": "428dcd35-755f-4bca-e407-04621d92d396"
      },
      "outputs": [
        {
          "name": "stdout",
          "output_type": "stream",
          "text": [
            "[[619 'France' 'Female' ... 1 1 101348.88]\n",
            " [608 'Spain' 'Female' ... 0 1 112542.58]\n",
            " [502 'France' 'Female' ... 1 0 113931.57]\n",
            " ...\n",
            " [709 'France' 'Female' ... 0 1 42085.58]\n",
            " [772 'Germany' 'Male' ... 1 0 92888.52]\n",
            " [792 'France' 'Female' ... 1 0 38190.78]]\n"
          ]
        }
      ],
      "source": [
        "print(X)"
      ]
    },
    {
      "cell_type": "code",
      "execution_count": 9,
      "metadata": {
        "colab": {
          "base_uri": "https://localhost:8080/"
        },
        "id": "38vKGE6Nb2RR",
        "outputId": "4bd8ab75-5907-4137-ddda-4e38c66c6f75"
      },
      "outputs": [
        {
          "name": "stdout",
          "output_type": "stream",
          "text": [
            "[1 0 1 ... 1 1 0]\n"
          ]
        }
      ],
      "source": [
        "print(y)"
      ]
    },
    {
      "cell_type": "markdown",
      "metadata": {
        "id": "N6bQ0UgSU-NJ"
      },
      "source": [
        "### Encoding categorical data"
      ]
    },
    {
      "cell_type": "markdown",
      "metadata": {
        "id": "le5MJreAbW52"
      },
      "source": [
        "Label Encoding the \"Gender\" column"
      ]
    },
    {
      "cell_type": "code",
      "execution_count": 10,
      "metadata": {
        "id": "PxVKWXxLbczC"
      },
      "outputs": [],
      "source": [
        "from sklearn.preprocessing import LabelEncoder\n",
        "le = LabelEncoder()\n",
        "X[:, 2] = le.fit_transform(X[:, 2])"
      ]
    },
    {
      "cell_type": "code",
      "execution_count": 11,
      "metadata": {
        "colab": {
          "base_uri": "https://localhost:8080/"
        },
        "id": "-M1KboxFb6OO",
        "outputId": "73cea024-7fb0-474b-864a-cd16ef89ad9c"
      },
      "outputs": [
        {
          "name": "stdout",
          "output_type": "stream",
          "text": [
            "[[619 'France' 0 ... 1 1 101348.88]\n",
            " [608 'Spain' 0 ... 0 1 112542.58]\n",
            " [502 'France' 0 ... 1 0 113931.57]\n",
            " ...\n",
            " [709 'France' 0 ... 0 1 42085.58]\n",
            " [772 'Germany' 1 ... 1 0 92888.52]\n",
            " [792 'France' 0 ... 1 0 38190.78]]\n"
          ]
        }
      ],
      "source": [
        "print(X)"
      ]
    },
    {
      "cell_type": "markdown",
      "metadata": {
        "id": "CUxGZezpbMcb"
      },
      "source": [
        "One Hot Encoding the \"Geography\" column"
      ]
    },
    {
      "cell_type": "code",
      "execution_count": 12,
      "metadata": {
        "id": "AMXC8-KMVirw"
      },
      "outputs": [],
      "source": [
        "from sklearn.compose import ColumnTransformer\n",
        "from sklearn.preprocessing import OneHotEncoder\n",
        "ct = ColumnTransformer(transformers=[('encoder', OneHotEncoder(), [1])], remainder='passthrough')\n",
        "X = np.array(ct.fit_transform(X))"
      ]
    },
    {
      "cell_type": "code",
      "execution_count": 13,
      "metadata": {
        "colab": {
          "base_uri": "https://localhost:8080/"
        },
        "id": "ZcxwEon-b8nV",
        "outputId": "a5c1dbee-33ac-49a4-85d5-1cb1d17d6a9c"
      },
      "outputs": [
        {
          "name": "stdout",
          "output_type": "stream",
          "text": [
            "[[1.0 0.0 0.0 ... 1 1 101348.88]\n",
            " [0.0 0.0 1.0 ... 0 1 112542.58]\n",
            " [1.0 0.0 0.0 ... 1 0 113931.57]\n",
            " ...\n",
            " [1.0 0.0 0.0 ... 0 1 42085.58]\n",
            " [0.0 1.0 0.0 ... 1 0 92888.52]\n",
            " [1.0 0.0 0.0 ... 1 0 38190.78]]\n"
          ]
        }
      ],
      "source": [
        "print(X)"
      ]
    },
    {
      "cell_type": "markdown",
      "metadata": {
        "id": "vHol938cW8zd"
      },
      "source": [
        "### Splitting the dataset into the Training set and Test set"
      ]
    },
    {
      "cell_type": "code",
      "execution_count": 14,
      "metadata": {
        "id": "Z-TDt0Y_XEfc"
      },
      "outputs": [],
      "source": [
        "from sklearn.model_selection import train_test_split\n",
        "X_train, X_test, y_train, y_test = train_test_split(X, y, test_size = 0.2, random_state = 0)"
      ]
    },
    {
      "cell_type": "markdown",
      "metadata": {
        "id": "RE_FcHyfV3TQ"
      },
      "source": [
        "### Feature Scaling"
      ]
    },
    {
      "cell_type": "code",
      "execution_count": 15,
      "metadata": {
        "id": "ViCrE00rV8Sk"
      },
      "outputs": [],
      "source": [
        "from sklearn.preprocessing import StandardScaler\n",
        "sc = StandardScaler()\n",
        "X_train = sc.fit_transform(X_train)\n",
        "X_test = sc.transform(X_test)"
      ]
    },
    {
      "cell_type": "markdown",
      "metadata": {
        "id": "-zfEzkRVXIwF"
      },
      "source": [
        "## Part 2 - Building the ANN"
      ]
    },
    {
      "cell_type": "markdown",
      "metadata": {
        "id": "KvdeScabXtlB"
      },
      "source": [
        "### Initializing the ANN"
      ]
    },
    {
      "cell_type": "code",
      "execution_count": 16,
      "metadata": {
        "id": "3dtrScHxXQox"
      },
      "outputs": [],
      "source": [
        "ann = tf.keras.models.Sequential()"
      ]
    },
    {
      "cell_type": "markdown",
      "metadata": {
        "id": "rP6urV6SX7kS"
      },
      "source": [
        "### Adding the input layer and the first hidden layer"
      ]
    },
    {
      "cell_type": "code",
      "execution_count": 17,
      "metadata": {
        "id": "bppGycBXYCQr"
      },
      "outputs": [],
      "source": [
        "ann.add(tf.keras.layers.Dense(units=6, activation='relu'))"
      ]
    },
    {
      "cell_type": "markdown",
      "metadata": {
        "id": "BELWAc_8YJze"
      },
      "source": [
        "### Adding the second hidden layer"
      ]
    },
    {
      "cell_type": "code",
      "execution_count": 18,
      "metadata": {
        "id": "JneR0u0sYRTd"
      },
      "outputs": [],
      "source": [
        "ann.add(tf.keras.layers.Dense(units=6, activation='relu'))"
      ]
    },
    {
      "cell_type": "markdown",
      "metadata": {
        "id": "OyNEe6RXYcU4"
      },
      "source": [
        "### Adding the output layer"
      ]
    },
    {
      "cell_type": "code",
      "execution_count": 19,
      "metadata": {
        "id": "Cn3x41RBYfvY"
      },
      "outputs": [],
      "source": [
        "ann.add(tf.keras.layers.Dense(units=1, activation='sigmoid'))"
      ]
    },
    {
      "cell_type": "code",
      "execution_count": 20,
      "metadata": {
        "colab": {
          "base_uri": "https://localhost:8080/"
        },
        "id": "zr9ONQdOetLL",
        "outputId": "25994e85-9aea-4184-9ae9-21c18ce3318a"
      },
      "outputs": [
        {
          "data": {
            "text/plain": [
              "array([[-1.01460667, -0.5698444 ,  1.74309049, ...,  0.64259497,\n",
              "        -1.03227043,  1.10643166],\n",
              "       [-1.01460667,  1.75486502, -0.57369368, ...,  0.64259497,\n",
              "         0.9687384 , -0.74866447],\n",
              "       [ 0.98560362, -0.5698444 , -0.57369368, ...,  0.64259497,\n",
              "        -1.03227043,  1.48533467],\n",
              "       ...,\n",
              "       [ 0.98560362, -0.5698444 , -0.57369368, ...,  0.64259497,\n",
              "        -1.03227043,  1.41231994],\n",
              "       [-1.01460667, -0.5698444 ,  1.74309049, ...,  0.64259497,\n",
              "         0.9687384 ,  0.84432121],\n",
              "       [-1.01460667,  1.75486502, -0.57369368, ...,  0.64259497,\n",
              "        -1.03227043,  0.32472465]])"
            ]
          },
          "execution_count": 20,
          "metadata": {},
          "output_type": "execute_result"
        }
      ],
      "source": [
        "X_train"
      ]
    },
    {
      "cell_type": "markdown",
      "metadata": {
        "id": "JT4u2S1_Y4WG"
      },
      "source": [
        "## Part 3 - Training the ANN"
      ]
    },
    {
      "cell_type": "markdown",
      "metadata": {
        "id": "8GWlJChhY_ZI"
      },
      "source": [
        "### Compiling the ANN"
      ]
    },
    {
      "cell_type": "code",
      "execution_count": 21,
      "metadata": {
        "id": "fG3RrwDXZEaS"
      },
      "outputs": [],
      "source": [
        "ann.compile(optimizer = 'adam', loss = 'binary_crossentropy', metrics = ['accuracy'])"
      ]
    },
    {
      "cell_type": "markdown",
      "metadata": {
        "id": "0QR_G5u7ZLSM"
      },
      "source": [
        "### Training the ANN on the Training set"
      ]
    },
    {
      "cell_type": "code",
      "execution_count": 22,
      "metadata": {
        "colab": {
          "base_uri": "https://localhost:8080/",
          "height": 1000
        },
        "id": "nHZ-LKv_ZRb3",
        "outputId": "d8400f15-bbc0-4149-f67e-95caa98e65c7"
      },
      "outputs": [
        {
          "name": "stdout",
          "output_type": "stream",
          "text": [
            "Epoch 1/100\n",
            "250/250 [==============================] - 1s 581us/step - loss: 0.5720 - accuracy: 0.7366\n",
            "Epoch 2/100\n",
            "250/250 [==============================] - 0s 571us/step - loss: 0.4964 - accuracy: 0.7939\n",
            "Epoch 3/100\n",
            "250/250 [==============================] - 0s 584us/step - loss: 0.4650 - accuracy: 0.8011\n",
            "Epoch 4/100\n",
            "250/250 [==============================] - 0s 665us/step - loss: 0.4439 - accuracy: 0.8071\n",
            "Epoch 5/100\n",
            "250/250 [==============================] - 0s 698us/step - loss: 0.4294 - accuracy: 0.8095\n",
            "Epoch 6/100\n",
            "250/250 [==============================] - 0s 659us/step - loss: 0.4176 - accuracy: 0.8146\n",
            "Epoch 7/100\n",
            "250/250 [==============================] - 0s 635us/step - loss: 0.4086 - accuracy: 0.8165\n",
            "Epoch 8/100\n",
            "250/250 [==============================] - 0s 607us/step - loss: 0.4013 - accuracy: 0.8204\n",
            "Epoch 9/100\n",
            "250/250 [==============================] - 0s 670us/step - loss: 0.3952 - accuracy: 0.8231\n",
            "Epoch 10/100\n",
            "250/250 [==============================] - 0s 690us/step - loss: 0.3900 - accuracy: 0.8264\n",
            "Epoch 11/100\n",
            "250/250 [==============================] - 0s 691us/step - loss: 0.3846 - accuracy: 0.8300\n",
            "Epoch 12/100\n",
            "250/250 [==============================] - 0s 651us/step - loss: 0.3799 - accuracy: 0.8332\n",
            "Epoch 13/100\n",
            "250/250 [==============================] - 0s 603us/step - loss: 0.3753 - accuracy: 0.8379\n",
            "Epoch 14/100\n",
            "250/250 [==============================] - 0s 630us/step - loss: 0.3705 - accuracy: 0.8419\n",
            "Epoch 15/100\n",
            "250/250 [==============================] - 0s 631us/step - loss: 0.3672 - accuracy: 0.8462\n",
            "Epoch 16/100\n",
            "250/250 [==============================] - 0s 698us/step - loss: 0.3636 - accuracy: 0.8478\n",
            "Epoch 17/100\n",
            "250/250 [==============================] - 0s 697us/step - loss: 0.3605 - accuracy: 0.8496\n",
            "Epoch 18/100\n",
            "250/250 [==============================] - 0s 666us/step - loss: 0.3583 - accuracy: 0.8531\n",
            "Epoch 19/100\n",
            "250/250 [==============================] - 0s 601us/step - loss: 0.3559 - accuracy: 0.8526\n",
            "Epoch 20/100\n",
            "250/250 [==============================] - 0s 599us/step - loss: 0.3539 - accuracy: 0.8543\n",
            "Epoch 21/100\n",
            "250/250 [==============================] - 0s 581us/step - loss: 0.3527 - accuracy: 0.8549\n",
            "Epoch 22/100\n",
            "250/250 [==============================] - 0s 596us/step - loss: 0.3516 - accuracy: 0.8566\n",
            "Epoch 23/100\n",
            "250/250 [==============================] - 0s 590us/step - loss: 0.3506 - accuracy: 0.8565\n",
            "Epoch 24/100\n",
            "250/250 [==============================] - 0s 755us/step - loss: 0.3497 - accuracy: 0.8564\n",
            "Epoch 25/100\n",
            "250/250 [==============================] - 0s 626us/step - loss: 0.3484 - accuracy: 0.8571\n",
            "Epoch 26/100\n",
            "250/250 [==============================] - 0s 574us/step - loss: 0.3478 - accuracy: 0.8568\n",
            "Epoch 27/100\n",
            "250/250 [==============================] - 0s 595us/step - loss: 0.3465 - accuracy: 0.8581\n",
            "Epoch 28/100\n",
            "250/250 [==============================] - 0s 597us/step - loss: 0.3464 - accuracy: 0.8568\n",
            "Epoch 29/100\n",
            "250/250 [==============================] - 0s 690us/step - loss: 0.3454 - accuracy: 0.8594\n",
            "Epoch 30/100\n",
            "250/250 [==============================] - 0s 671us/step - loss: 0.3452 - accuracy: 0.8589\n",
            "Epoch 31/100\n",
            "250/250 [==============================] - 0s 627us/step - loss: 0.3448 - accuracy: 0.8608\n",
            "Epoch 32/100\n",
            "250/250 [==============================] - 0s 587us/step - loss: 0.3441 - accuracy: 0.8590\n",
            "Epoch 33/100\n",
            "250/250 [==============================] - 0s 576us/step - loss: 0.3442 - accuracy: 0.8600\n",
            "Epoch 34/100\n",
            "250/250 [==============================] - 0s 612us/step - loss: 0.3431 - accuracy: 0.8594\n",
            "Epoch 35/100\n",
            "250/250 [==============================] - 0s 625us/step - loss: 0.3429 - accuracy: 0.8608\n",
            "Epoch 36/100\n",
            "250/250 [==============================] - 0s 626us/step - loss: 0.3425 - accuracy: 0.8586\n",
            "Epoch 37/100\n",
            "250/250 [==============================] - 0s 639us/step - loss: 0.3422 - accuracy: 0.8606\n",
            "Epoch 38/100\n",
            "250/250 [==============================] - 0s 592us/step - loss: 0.3424 - accuracy: 0.8610\n",
            "Epoch 39/100\n",
            "250/250 [==============================] - 0s 577us/step - loss: 0.3414 - accuracy: 0.8616\n",
            "Epoch 40/100\n",
            "250/250 [==============================] - 0s 596us/step - loss: 0.3417 - accuracy: 0.8604\n",
            "Epoch 41/100\n",
            "250/250 [==============================] - 0s 625us/step - loss: 0.3410 - accuracy: 0.8611\n",
            "Epoch 42/100\n",
            "250/250 [==============================] - 0s 635us/step - loss: 0.3407 - accuracy: 0.8608\n",
            "Epoch 43/100\n",
            "250/250 [==============================] - 0s 637us/step - loss: 0.3410 - accuracy: 0.8622\n",
            "Epoch 44/100\n",
            "250/250 [==============================] - 0s 625us/step - loss: 0.3405 - accuracy: 0.8608\n",
            "Epoch 45/100\n",
            "250/250 [==============================] - 0s 592us/step - loss: 0.3404 - accuracy: 0.8620\n",
            "Epoch 46/100\n",
            "250/250 [==============================] - 0s 580us/step - loss: 0.3401 - accuracy: 0.8625\n",
            "Epoch 47/100\n",
            "250/250 [==============================] - 0s 635us/step - loss: 0.3405 - accuracy: 0.8614\n",
            "Epoch 48/100\n",
            "250/250 [==============================] - 0s 638us/step - loss: 0.3402 - accuracy: 0.8595\n",
            "Epoch 49/100\n",
            "250/250 [==============================] - 0s 627us/step - loss: 0.3402 - accuracy: 0.8610\n",
            "Epoch 50/100\n",
            "250/250 [==============================] - 0s 636us/step - loss: 0.3397 - accuracy: 0.8625\n",
            "Epoch 51/100\n",
            "250/250 [==============================] - 0s 605us/step - loss: 0.3397 - accuracy: 0.8620\n",
            "Epoch 52/100\n",
            "250/250 [==============================] - 0s 574us/step - loss: 0.3397 - accuracy: 0.8616\n",
            "Epoch 53/100\n",
            "250/250 [==============================] - 0s 603us/step - loss: 0.3398 - accuracy: 0.8636\n",
            "Epoch 54/100\n",
            "250/250 [==============================] - 0s 638us/step - loss: 0.3396 - accuracy: 0.8625\n",
            "Epoch 55/100\n",
            "250/250 [==============================] - 0s 675us/step - loss: 0.3399 - accuracy: 0.8616\n",
            "Epoch 56/100\n",
            "250/250 [==============================] - 0s 645us/step - loss: 0.3387 - accuracy: 0.8612\n",
            "Epoch 57/100\n",
            "250/250 [==============================] - 0s 610us/step - loss: 0.3389 - accuracy: 0.8619\n",
            "Epoch 58/100\n",
            "250/250 [==============================] - 0s 583us/step - loss: 0.3387 - accuracy: 0.8618\n",
            "Epoch 59/100\n",
            "250/250 [==============================] - 0s 612us/step - loss: 0.3387 - accuracy: 0.8618\n",
            "Epoch 60/100\n",
            "250/250 [==============================] - 0s 621us/step - loss: 0.3388 - accuracy: 0.8608\n",
            "Epoch 61/100\n",
            "250/250 [==============================] - 0s 635us/step - loss: 0.3391 - accuracy: 0.8605\n",
            "Epoch 62/100\n",
            "250/250 [==============================] - 0s 632us/step - loss: 0.3385 - accuracy: 0.8624\n",
            "Epoch 63/100\n",
            "250/250 [==============================] - 0s 611us/step - loss: 0.3389 - accuracy: 0.8622\n",
            "Epoch 64/100\n",
            "250/250 [==============================] - 0s 596us/step - loss: 0.3384 - accuracy: 0.8621\n",
            "Epoch 65/100\n",
            "250/250 [==============================] - 0s 590us/step - loss: 0.3386 - accuracy: 0.8622\n",
            "Epoch 66/100\n",
            "250/250 [==============================] - 0s 606us/step - loss: 0.3385 - accuracy: 0.8622\n",
            "Epoch 67/100\n",
            "250/250 [==============================] - 0s 645us/step - loss: 0.3387 - accuracy: 0.8636\n",
            "Epoch 68/100\n",
            "250/250 [==============================] - 0s 662us/step - loss: 0.3381 - accuracy: 0.8634\n",
            "Epoch 69/100\n",
            "250/250 [==============================] - 0s 620us/step - loss: 0.3382 - accuracy: 0.8634\n",
            "Epoch 70/100\n",
            "250/250 [==============================] - 0s 571us/step - loss: 0.3383 - accuracy: 0.8612\n",
            "Epoch 71/100\n",
            "250/250 [==============================] - 0s 578us/step - loss: 0.3380 - accuracy: 0.8627\n",
            "Epoch 72/100\n",
            "250/250 [==============================] - 0s 583us/step - loss: 0.3380 - accuracy: 0.8629\n",
            "Epoch 73/100\n",
            "250/250 [==============================] - 0s 593us/step - loss: 0.3379 - accuracy: 0.8604\n",
            "Epoch 74/100\n",
            "250/250 [==============================] - 0s 590us/step - loss: 0.3379 - accuracy: 0.8618\n",
            "Epoch 75/100\n",
            "250/250 [==============================] - 0s 573us/step - loss: 0.3379 - accuracy: 0.8606\n",
            "Epoch 76/100\n",
            "250/250 [==============================] - 0s 584us/step - loss: 0.3379 - accuracy: 0.8633\n",
            "Epoch 77/100\n",
            "250/250 [==============================] - 0s 572us/step - loss: 0.3378 - accuracy: 0.8612\n",
            "Epoch 78/100\n",
            "250/250 [==============================] - 0s 573us/step - loss: 0.3379 - accuracy: 0.8615\n",
            "Epoch 79/100\n",
            "250/250 [==============================] - 0s 568us/step - loss: 0.3379 - accuracy: 0.8609\n",
            "Epoch 80/100\n",
            "250/250 [==============================] - 0s 608us/step - loss: 0.3372 - accuracy: 0.8639\n",
            "Epoch 81/100\n",
            "250/250 [==============================] - 0s 597us/step - loss: 0.3371 - accuracy: 0.8611\n",
            "Epoch 82/100\n",
            "250/250 [==============================] - 0s 714us/step - loss: 0.3376 - accuracy: 0.8622\n",
            "Epoch 83/100\n",
            "250/250 [==============================] - 0s 646us/step - loss: 0.3372 - accuracy: 0.8630\n",
            "Epoch 84/100\n",
            "250/250 [==============================] - 0s 628us/step - loss: 0.3372 - accuracy: 0.8626\n",
            "Epoch 85/100\n",
            "250/250 [==============================] - 0s 607us/step - loss: 0.3369 - accuracy: 0.8633\n",
            "Epoch 86/100\n",
            "250/250 [==============================] - 0s 583us/step - loss: 0.3370 - accuracy: 0.8630\n",
            "Epoch 87/100\n",
            "250/250 [==============================] - 0s 571us/step - loss: 0.3372 - accuracy: 0.8612\n",
            "Epoch 88/100\n",
            "250/250 [==============================] - 0s 586us/step - loss: 0.3370 - accuracy: 0.8621\n",
            "Epoch 89/100\n",
            "250/250 [==============================] - 0s 592us/step - loss: 0.3367 - accuracy: 0.8616\n",
            "Epoch 90/100\n",
            "250/250 [==============================] - 0s 583us/step - loss: 0.3366 - accuracy: 0.8625\n",
            "Epoch 91/100\n",
            "250/250 [==============================] - 0s 585us/step - loss: 0.3367 - accuracy: 0.8601\n",
            "Epoch 92/100\n",
            "250/250 [==============================] - 0s 589us/step - loss: 0.3366 - accuracy: 0.8629\n",
            "Epoch 93/100\n",
            "250/250 [==============================] - 0s 583us/step - loss: 0.3364 - accuracy: 0.8602\n",
            "Epoch 94/100\n",
            "250/250 [==============================] - 0s 599us/step - loss: 0.3365 - accuracy: 0.8622\n",
            "Epoch 95/100\n",
            "250/250 [==============================] - 0s 589us/step - loss: 0.3357 - accuracy: 0.8629\n",
            "Epoch 96/100\n",
            "250/250 [==============================] - 0s 569us/step - loss: 0.3363 - accuracy: 0.8625\n",
            "Epoch 97/100\n",
            "250/250 [==============================] - 0s 578us/step - loss: 0.3364 - accuracy: 0.8604\n",
            "Epoch 98/100\n",
            "250/250 [==============================] - 0s 579us/step - loss: 0.3361 - accuracy: 0.8621\n",
            "Epoch 99/100\n",
            "250/250 [==============================] - 0s 588us/step - loss: 0.3364 - accuracy: 0.8621\n",
            "Epoch 100/100\n",
            "250/250 [==============================] - 0s 573us/step - loss: 0.3360 - accuracy: 0.8616\n"
          ]
        },
        {
          "data": {
            "text/plain": [
              "<keras.callbacks.History at 0x13cd6cccc10>"
            ]
          },
          "execution_count": 22,
          "metadata": {},
          "output_type": "execute_result"
        }
      ],
      "source": [
        "ann.fit(X_train, y_train, batch_size = 32, epochs = 100)"
      ]
    },
    {
      "cell_type": "markdown",
      "metadata": {
        "id": "tJj5k2MxZga3"
      },
      "source": [
        "## Part 4 - Making the predictions and evaluating the model"
      ]
    },
    {
      "cell_type": "markdown",
      "metadata": {
        "id": "84QFoqGYeXHL"
      },
      "source": [
        "### Predicting the result of a single observation"
      ]
    },
    {
      "cell_type": "markdown",
      "metadata": {
        "id": "CGRo3eacgDdC"
      },
      "source": [
        "**Homework**\n",
        "\n",
        "Use our ANN model to predict if the customer with the following informations will leave the bank: \n",
        "\n",
        "Geography: France\n",
        "\n",
        "Credit Score: 600\n",
        "\n",
        "Gender: Male\n",
        "\n",
        "Age: 40 years old\n",
        "\n",
        "Tenure: 3 years\n",
        "\n",
        "Balance: \\$ 60000\n",
        "\n",
        "Number of Products: 2\n",
        "\n",
        "Does this customer have a credit card ? Yes\n",
        "\n",
        "Is this customer an Active Member: Yes\n",
        "\n",
        "Estimated Salary: \\$ 50000\n",
        "\n",
        "So, should we say goodbye to that customer ?"
      ]
    },
    {
      "cell_type": "markdown",
      "metadata": {
        "id": "ZhU1LTgPg-kH"
      },
      "source": [
        "**Solution**"
      ]
    },
    {
      "cell_type": "code",
      "execution_count": 23,
      "metadata": {
        "id": "2d8IoCCkeWGL"
      },
      "outputs": [
        {
          "name": "stdout",
          "output_type": "stream",
          "text": [
            "[[False]]\n"
          ]
        }
      ],
      "source": [
        "print(ann.predict(sc.transform([[1, 0, 0, 600, 1, 40, 3, 60000, 2, 1, 1, 50000]])) > 0.5)"
      ]
    },
    {
      "cell_type": "markdown",
      "metadata": {
        "id": "wGjx94g2n7OV"
      },
      "source": [
        "Therefore, our ANN model predicts that this customer stays in the bank!\n",
        "\n",
        "**Important note 1:** Notice that the values of the features were all input in a double pair of square brackets. That's because the \"predict\" method always expects a 2D array as the format of its inputs. And putting our values into a double pair of square brackets makes the input exactly a 2D array.\n",
        "\n",
        "**Important note 2:** Notice also that the \"France\" country was not input as a string in the last column but as \"1, 0, 0\" in the first three columns. That's because of course the predict method expects the one-hot-encoded values of the state, and as we see in the first row of the matrix of features X, \"France\" was encoded as \"1, 0, 0\". And be careful to include these values in the first three columns, because the dummy variables are always created in the first columns."
      ]
    },
    {
      "cell_type": "markdown",
      "metadata": {
        "id": "u7yx47jPZt11"
      },
      "source": [
        "### Predicting the Test set results"
      ]
    },
    {
      "cell_type": "code",
      "execution_count": 24,
      "metadata": {
        "id": "nIyEeQdRZwgs"
      },
      "outputs": [
        {
          "name": "stdout",
          "output_type": "stream",
          "text": [
            "[[0 0]\n",
            " [0 1]\n",
            " [0 0]\n",
            " ...\n",
            " [0 0]\n",
            " [0 0]\n",
            " [0 0]]\n"
          ]
        }
      ],
      "source": [
        "y_pred = ann.predict(X_test)\n",
        "y_pred = (y_pred > 0.5)\n",
        "print(np.concatenate((y_pred.reshape(len(y_pred),1), y_test.reshape(len(y_test),1)),1))"
      ]
    },
    {
      "cell_type": "markdown",
      "metadata": {
        "id": "o0oyfLWoaEGw"
      },
      "source": [
        "### Making the Confusion Matrix"
      ]
    },
    {
      "cell_type": "code",
      "execution_count": 25,
      "metadata": {
        "id": "ci6K_r6LaF6P"
      },
      "outputs": [
        {
          "name": "stdout",
          "output_type": "stream",
          "text": [
            "[[1512   83]\n",
            " [ 194  211]]\n"
          ]
        },
        {
          "data": {
            "text/plain": [
              "0.8615"
            ]
          },
          "execution_count": 25,
          "metadata": {},
          "output_type": "execute_result"
        }
      ],
      "source": [
        "from sklearn.metrics import confusion_matrix, accuracy_score\n",
        "cm = confusion_matrix(y_test, y_pred)\n",
        "print(cm)\n",
        "accuracy_score(y_test, y_pred)"
      ]
    },
    {
      "cell_type": "code",
      "execution_count": null,
      "metadata": {},
      "outputs": [],
      "source": [
        "import keras\n",
        "from matplotlib import pyplot as plt\n",
        "history = ann.fit(X_train, y_train,validation_split = 0.1, epochs=50, batch_size=4)\n"
      ]
    },
    {
      "cell_type": "code",
      "execution_count": null,
      "metadata": {},
      "outputs": [],
      "source": [
        "plt.plot(history.history['accuracy'])\n",
        "plt.plot(history.history['val_acc'])\n",
        "plt.title('model accuracy')\n",
        "plt.ylabel('accuracy')\n",
        "plt.xlabel('epoch')\n",
        "plt.legend(['train', 'val'], loc='upper left')\n",
        "plt.show()"
      ]
    },
    {
      "cell_type": "code",
      "execution_count": 29,
      "metadata": {},
      "outputs": [
        {
          "data": {
            "image/png": "[encoded data removed]",
            "text/plain": [
              "<Figure size 432x288 with 1 Axes>"
            ]
          },
          "metadata": {
            "needs_background": "light"
          },
          "output_type": "display_data"
        }
      ],
      "source": [
        "plt.plot(history.history['loss'])\n",
        "plt.plot(history.history['val_loss'])\n",
        "plt.title('model loss')\n",
        "plt.ylabel('loss')\n",
        "plt.xlabel('epoch')\n",
        "plt.legend(['train', 'val'], loc='upper left')\n",
        "plt.show()"
      ]
    },
    {
      "cell_type": "code",
      "execution_count": null,
      "metadata": {},
      "outputs": [],
      "source": []
    }
  ],
  "metadata": {
    "colab": {
      "collapsed_sections": [],
      "name": "artificial_neural_network.ipynb",
      "provenance": []
    },
    "kernelspec": {
      "display_name": "Python 3.10.2 64-bit",
      "language": "python",
      "name": "python3"
    },
    "language_info": {
      "codemirror_mode": {
        "name": "ipython",
        "version": 3
      },
      "file_extension": ".py",
      "mimetype": "text/x-python",
      "name": "python",
      "nbconvert_exporter": "python",
      "pygments_lexer": "ipython3",
      "version": "3.10.2"
    },
    "vscode": {
      "interpreter": {
        "hash": "f2ccb58c476f33ba3e3aee7ac07234ef6b8217ef24ad64d2a7d4fed1a57c1cd2"
      }
    }
  },
  "nbformat": 4,
  "nbformat_minor": 0
}
